{
 "cells": [
  {
   "cell_type": "code",
   "execution_count": null,
   "metadata": {},
   "outputs": [],
   "source": [
    "# Import necessary libraries\n",
    "import tensorflow as tf\n",
    "from tensorflow.keras.preprocessing.image import ImageDataGenerator\n",
    "from tensorflow.keras.applications import VGG16\n",
    "from tensorflow.keras.layers import Flatten, Dense, Dropout\n",
    "from tensorflow.keras.models import Sequential\n",
    "from sklearn.model_selection import train_test_split"
   ]
  },
  {
   "cell_type": "code",
   "execution_count": null,
   "metadata": {},
   "outputs": [],
   "source": [
    "# Define class labels\n",
    "class_labels = ['area', 'heatmap', 'horizontal_bar', 'horizontal_interval', 'line', 'manhattan',\n",
    "               'map', 'pie', 'scatter', 'scatter-line', 'surface', 'venn', 'vertical_bar',\n",
    "               'vertical_box', 'vertical_interval']\n",
    "num_classes = len(class_labels)"
   ]
  },
  {
   "cell_type": "code",
   "execution_count": null,
   "metadata": {},
   "outputs": [],
   "source": [
    "# Adjust paths to your train folder and class labels\n",
    "train_path = \"/kaggle/input/icpr-2022/ICPR 2022/ICPR2022_CHARTINFO_UB_PMC_TRAIN_v1.0/images\"\n",
    "\n",
    "# Data augmentation settings\n",
    "train_datagen = ImageDataGenerator()\n",
    "\n",
    "train_generator = train_datagen.flow_from_directory(\n",
    "    train_path,\n",
    "    target_size = (224, 224),\n",
    "    batch_size = 32,\n",
    "    class_mode = 'categorical',\n",
    "    classes = class_labels,\n",
    "    shuffle = False  \n",
    ")\n",
    "\n",
    "# Split training data into train and validation sets\n",
    "train_data, val_data, train_labels, val_labels = train_test_split(\n",
    "    train_datagen.filenames,\n",
    "    train_datagen.classes,\n",
    "    test_size=0.3,  # 30% for validation\n",
    "    stratify=train_datagen.classes  # Maintain class balance\n",
    ")\n",
    "\n",
    "val_generator = (val_data, val_labels)"
   ]
  },
  {
   "cell_type": "code",
   "execution_count": null,
   "metadata": {},
   "outputs": [],
   "source": [
    "from tensorflow.keras.models import Model\n",
    "from tensorflow.keras.layer import GlobalAveragePooling2D\n",
    "\n",
    "base_model = VGG16(weights='imagenet', include_top=False, input_shape=(224, 224, 3))\n",
    "for layer in base_model.layers:\n",
    "    layer.trainable = False\n",
    "    \n",
    "    \n",
    "# Add your classifier layers (replace with your intended architecture)\n",
    "x = base_model.output\n",
    "x = GlobalAveragePooling2D()(x)\n",
    "x = Flatten()(x)  # Flatten the output of the base model\n",
    "x = Dense(512, activation='relu')(x)  # Example dense layer\n",
    "output = Dense(num_classes, activation='softmax')(x)  # Output layer\n",
    "\n",
    "# Create a new model with base_model.input as input and output as the output layer you created\n",
    "model = Model(inputs=base_model.input, outputs=output)\n",
    "\n",
    "model.compile(optimizer='adam', loss='categorical_crossentropy', metrics=['accuracy'])\n",
    "\n",
    "# Train the model\n",
    "model.fit(\n",
    "    train_generator,\n",
    "    epochs=10,  # Adjust epochs as needed\n",
    "    validation_data=val_generator\n",
    ")"
   ]
  },
  {
   "cell_type": "code",
   "execution_count": null,
   "metadata": {},
   "outputs": [],
   "source": [
    "# Evaluate the model on the test set\n",
    "test_datagen = ImageDataGenerator(rescale=1./255)  # No data augmentation for test\n",
    "\n",
    "test_generator = test_datagen.flow_from_directory(\n",
    "    directory = '/kaggle/input/icpr-2022-small/ICPR 2022 Small/Test',\n",
    "    target_size = (224, 224),\n",
    "    batch_size = 32,\n",
    "    class_mode = 'categorical',\n",
    "    classes = class_labels,\n",
    "    shuffle = False  \n",
    ")\n",
    "\n",
    "test_loss, test_acc = model.evaluate(test_generator)\n",
    "print('Test accuracy:', test_acc)"
   ]
  }
 ],
 "metadata": {
  "language_info": {
   "name": "python"
  }
 },
 "nbformat": 4,
 "nbformat_minor": 2
}
